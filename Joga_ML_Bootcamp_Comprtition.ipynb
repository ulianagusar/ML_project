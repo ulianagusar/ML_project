{
 "cells": [
  {
   "cell_type": "code",
   "execution_count": 1,
   "id": "b17d1c71",
   "metadata": {
    "execution": {
     "iopub.execute_input": "2023-09-04T16:20:43.433107Z",
     "iopub.status.busy": "2023-09-04T16:20:43.432412Z",
     "iopub.status.idle": "2023-09-04T16:21:01.706140Z",
     "shell.execute_reply": "2023-09-04T16:21:01.704883Z"
    },
    "papermill": {
     "duration": 18.283334,
     "end_time": "2023-09-04T16:21:01.709300",
     "exception": false,
     "start_time": "2023-09-04T16:20:43.425966",
     "status": "completed"
    },
    "tags": []
   },
   "outputs": [],
   "source": [
    "import os\n",
    "import shutil\n",
    "from sklearn.model_selection import train_test_split\n",
    "\n",
    "# Шлях до папки з усіма зображеннями та CSV-файлом із мітками\n",
    "all_images_dir = '/kaggle/input/ukraine-ml-bootcamp-2023/images/train_images/'\n",
    "csv_file_path = '/kaggle/input/ukraine-ml-bootcamp-2023/train.csv'\n",
    "\n",
    "# Завантаження даних з CSV файлу\n",
    "import pandas as pd\n",
    "train_data = pd.read_csv(csv_file_path)\n",
    "\n",
    "# Шляхи до папок для тренувальних та валідаційних зображень\n",
    "train_images_dir = 'kaggle/input/ukraine-ml-bootcamp-2023/train/images'\n",
    "# validation_images_dir = 'kaggle/input/ukraine-ml-bootcamp-2023/validation/images'\n",
    "\n",
    "# Створення папок для тренувальних та валідаційних зображень\n",
    "os.makedirs(train_images_dir, exist_ok=True)\n",
    "# os.makedirs(validation_images_dir, exist_ok=True)\n",
    "\n",
    "# # Розділення на тренувальний та валідаційний набори\n",
    "# train_data, validation_data = train_test_split(data, test_size=0.2, random_state=42)\n",
    "\n",
    "# Копіювання зображень до відповідних папок з розділенням за класами\n",
    "for index, row in train_data.iterrows():\n",
    "    class_folder = os.path.join(train_images_dir, str(row['class_6']))\n",
    "    os.makedirs(class_folder, exist_ok=True)\n",
    "    src_path = os.path.join(all_images_dir, row['image_id'])\n",
    "    dst_path = os.path.join(class_folder, row['image_id'])\n",
    "    shutil.copy(src_path, dst_path)\n",
    "\n",
    "# for index, row in validation_data.iterrows():\n",
    "#      class_folder = os.path.join(validation_images_dir, str(row['class_6']))\n",
    "#      os.makedirs(class_folder, exist_ok=True)\n",
    "#      src_path = os.path.join(all_images_dir, row['image_id'])\n",
    "#      dst_path = os.path.join(class_folder, row['image_id'])\n",
    "#      shutil.copy(src_path, dst_path)\n"
   ]
  },
  {
   "cell_type": "code",
   "execution_count": 2,
   "id": "d6aeaaba",
   "metadata": {
    "execution": {
     "iopub.execute_input": "2023-09-04T16:21:01.722241Z",
     "iopub.status.busy": "2023-09-04T16:21:01.721376Z",
     "iopub.status.idle": "2023-09-04T19:27:53.014614Z",
     "shell.execute_reply": "2023-09-04T19:27:53.013254Z"
    },
    "papermill": {
     "duration": 11211.528578,
     "end_time": "2023-09-04T19:27:53.242369",
     "exception": false,
     "start_time": "2023-09-04T16:21:01.713791",
     "status": "completed"
    },
    "tags": []
   },
   "outputs": [
    {
     "name": "stdout",
     "output_type": "stream",
     "text": [
      "Downloading data from https://storage.googleapis.com/tensorflow/keras-applications/mobilenet_v2/mobilenet_v2_weights_tf_dim_ordering_tf_kernels_1.0_224_no_top.h5\n",
      "9406464/9406464 [==============================] - 0s 0us/step\n",
      "Found 2360 images belonging to 6 classes.\n"
     ]
    },
    {
     "name": "stderr",
     "output_type": "stream",
     "text": [
      "/opt/conda/lib/python3.10/site-packages/keras/optimizers/legacy/adam.py:117: UserWarning: The `lr` argument is deprecated, use `learning_rate` instead.\n",
      "  super().__init__(name, **kwargs)\n"
     ]
    },
    {
     "name": "stdout",
     "output_type": "stream",
     "text": [
      "Epoch 1/30\n",
      "74/74 [==============================] - 347s 5s/step - loss: 1.5735 - accuracy: 0.3737\n",
      "Epoch 2/30\n",
      "74/74 [==============================] - 338s 5s/step - loss: 0.9958 - accuracy: 0.6318\n",
      "Epoch 3/30\n",
      "74/74 [==============================] - 339s 5s/step - loss: 0.6498 - accuracy: 0.7746\n",
      "Epoch 4/30\n",
      "74/74 [==============================] - 338s 5s/step - loss: 0.4513 - accuracy: 0.8487\n",
      "Epoch 5/30\n",
      "74/74 [==============================] - 339s 5s/step - loss: 0.3172 - accuracy: 0.8979\n",
      "Epoch 6/30\n",
      "74/74 [==============================] - 339s 5s/step - loss: 0.2635 - accuracy: 0.9085\n",
      "Epoch 7/30\n",
      "74/74 [==============================] - 341s 5s/step - loss: 0.2025 - accuracy: 0.9309\n",
      "Epoch 8/30\n",
      "74/74 [==============================] - 340s 5s/step - loss: 0.1416 - accuracy: 0.9559\n",
      "Epoch 9/30\n",
      "74/74 [==============================] - 344s 5s/step - loss: 0.1100 - accuracy: 0.9699\n",
      "Epoch 10/30\n",
      "74/74 [==============================] - 341s 5s/step - loss: 0.0924 - accuracy: 0.9703\n",
      "Epoch 11/30\n",
      "74/74 [==============================] - 342s 5s/step - loss: 0.0941 - accuracy: 0.9661\n",
      "Epoch 12/30\n",
      "74/74 [==============================] - 344s 5s/step - loss: 0.0775 - accuracy: 0.9758\n",
      "Epoch 13/30\n",
      "74/74 [==============================] - 345s 5s/step - loss: 0.0648 - accuracy: 0.9784\n",
      "Epoch 14/30\n",
      "74/74 [==============================] - 344s 5s/step - loss: 0.0859 - accuracy: 0.9699\n",
      "Epoch 15/30\n",
      "74/74 [==============================] - 343s 5s/step - loss: 0.0744 - accuracy: 0.9771\n",
      "Epoch 16/30\n",
      "74/74 [==============================] - 345s 5s/step - loss: 0.0563 - accuracy: 0.9826\n",
      "Epoch 17/30\n",
      "74/74 [==============================] - 346s 5s/step - loss: 0.0523 - accuracy: 0.9822\n",
      "Epoch 18/30\n",
      "74/74 [==============================] - 342s 5s/step - loss: 0.0533 - accuracy: 0.9826\n",
      "Epoch 19/30\n",
      "74/74 [==============================] - 346s 5s/step - loss: 0.0524 - accuracy: 0.9835\n",
      "Epoch 20/30\n",
      "74/74 [==============================] - 342s 5s/step - loss: 0.0546 - accuracy: 0.9818\n",
      "Epoch 21/30\n",
      "74/74 [==============================] - 344s 5s/step - loss: 0.0399 - accuracy: 0.9860\n",
      "Epoch 22/30\n",
      "74/74 [==============================] - 344s 5s/step - loss: 0.0485 - accuracy: 0.9826\n",
      "Epoch 23/30\n",
      "74/74 [==============================] - 343s 5s/step - loss: 0.0523 - accuracy: 0.9801\n",
      "Epoch 24/30\n",
      "74/74 [==============================] - 345s 5s/step - loss: 0.0402 - accuracy: 0.9860\n",
      "Epoch 25/30\n",
      "74/74 [==============================] - 345s 5s/step - loss: 0.0355 - accuracy: 0.9898\n",
      "Epoch 26/30\n",
      "74/74 [==============================] - 349s 5s/step - loss: 0.0378 - accuracy: 0.9890\n",
      "Epoch 27/30\n",
      "74/74 [==============================] - 346s 5s/step - loss: 0.0441 - accuracy: 0.9856\n",
      "Epoch 28/30\n",
      "74/74 [==============================] - 345s 5s/step - loss: 0.0478 - accuracy: 0.9835\n",
      "Epoch 29/30\n",
      "74/74 [==============================] - 348s 5s/step - loss: 0.0388 - accuracy: 0.9869\n",
      "Epoch 30/30\n",
      "74/74 [==============================] - 344s 5s/step - loss: 0.0447 - accuracy: 0.9847\n"
     ]
    },
    {
     "data": {
      "text/plain": [
       "<keras.callbacks.History at 0x7853c05b9e10>"
      ]
     },
     "execution_count": 2,
     "metadata": {},
     "output_type": "execute_result"
    }
   ],
   "source": [
    "from keras.applications import MobileNetV2\n",
    "from keras.models import Sequential\n",
    "from keras.layers import GlobalAveragePooling2D, Dense\n",
    "from keras.optimizers import Adam\n",
    "from keras.preprocessing.image import ImageDataGenerator\n",
    "\n",
    "base_model = MobileNetV2(weights='imagenet', include_top=False, input_shape=(224, 224, 3))\n",
    "\n",
    "model = Sequential()\n",
    "model.add(base_model)\n",
    "model.add(GlobalAveragePooling2D())\n",
    "model.add(Dense(64, activation='relu'))\n",
    "model.add(Dense(32, activation='relu'))\n",
    "model.add(Dense(6, activation='softmax'))  # 6 класів\n",
    "\n",
    "# Розмороження деяких шарів базової моделі\n",
    "for layer in base_model.layers[10:]: \n",
    "    layer.trainable = True\n",
    "\n",
    "# Компіляція моделі\n",
    "model.compile(optimizer=Adam(lr=0.0001), loss='categorical_crossentropy', metrics=['accuracy'])\n",
    "\n",
    "# Підготовка даних та генератори\n",
    "train_datagen = ImageDataGenerator(rescale=1.0/255,\n",
    "                                   rotation_range=10,  # Зменшено аугментацію\n",
    "                                   width_shift_range=0.2,\n",
    "                                   height_shift_range=0.2,\n",
    "                                   zoom_range=0.2,\n",
    "                                   horizontal_flip=True,\n",
    "                                   fill_mode='nearest')\n",
    "\n",
    "train_generator = train_datagen.flow_from_directory('kaggle/input/ukraine-ml-bootcamp-2023/train/images',\n",
    "                                                    target_size=(224, 224),\n",
    "                                                    batch_size=32,\n",
    "                                                    class_mode='categorical')\n",
    "\n",
    "# validation_datagen = ImageDataGenerator(rescale=1.0/255)\n",
    "\n",
    "# validation_generator = validation_datagen.flow_from_directory('kaggle/input/ukraine-ml-bootcamp-2023/validation/images',\n",
    "#                                                               target_size=(224, 224),\n",
    "#                                                               batch_size=32,\n",
    "#                                                               class_mode='categorical')\n",
    "\n",
    "# Навчання моделі\n",
    "model.fit(train_generator,\n",
    "          steps_per_epoch=len(train_generator),\n",
    "          epochs=30)"
   ]
  }
 ],
 "kernelspec": {
  "display_name": "Python 3",
  "language": "python",
  "name": "python3"
 },
 "language_info": {
  "codemirror_mode": {
   "name": "ipython",
   "version": 3
  },
  "file_extension": ".py",
  "mimetype": "text/x-python",
  "name": "python",
  "nbconvert_exporter": "python",
  "pygments_lexer": "ipython3",
  "version": "3.6.4"
 },
 "metadata": {
  "kernelspec": {
   "display_name": "Python 3",
   "language": "python",
   "name": "python3"
  },
  "language_info": {
   "codemirror_mode": {
    "name": "ipython",
    "version": 3
   },
   "file_extension": ".py",
   "mimetype": "text/x-python",
   "name": "python",
   "nbconvert_exporter": "python",
   "pygments_lexer": "ipython3",
   "version": "3.10.12"
  },
  "papermill": {
   "default_parameters": {},
   "duration": 11236.216794,
   "end_time": "2023-09-04T19:27:55.813181",
   "environment_variables": {},
   "exception": null,
   "input_path": "__notebook__.ipynb",
   "output_path": "__notebook__.ipynb",
   "parameters": {},
   "start_time": "2023-09-04T16:20:39.596387",
   "version": "2.4.0"
  }
 },
 "nbformat": 4,
 "nbformat_minor": 5
}
